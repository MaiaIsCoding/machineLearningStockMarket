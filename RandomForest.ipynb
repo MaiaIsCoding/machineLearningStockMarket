{
 "cells": [
  {
   "cell_type": "code",
   "execution_count": 1,
   "id": "4801e6c1",
   "metadata": {},
   "outputs": [],
   "source": [
    "import pandas as pd\n",
    "import numpy as np\n",
    "import matplotlib as plt\n",
    "import pandas_datareader as web\n",
    "import datetime as dt\n",
    "import math\n",
    "from sklearn.preprocessing import StandardScaler\n",
    "from matplotlib.pylab import rcParams\n",
    "from sklearn.ensemble import RandomForestRegressor"
   ]
  },
  {
   "cell_type": "code",
   "execution_count": 2,
   "id": "216c4509",
   "metadata": {},
   "outputs": [],
   "source": [
    "from sklearn.metrics import mean_absolute_error\n",
    "from sklearn.metrics import r2_score\n",
    "from sklearn.metrics import mean_absolute_percentage_error\n",
    "from sklearn.metrics import mean_squared_error"
   ]
  },
  {
   "cell_type": "code",
   "execution_count": 3,
   "id": "d38c01cf",
   "metadata": {},
   "outputs": [
    {
     "data": {
      "text/html": [
       "<div>\n",
       "<style scoped>\n",
       "    .dataframe tbody tr th:only-of-type {\n",
       "        vertical-align: middle;\n",
       "    }\n",
       "\n",
       "    .dataframe tbody tr th {\n",
       "        vertical-align: top;\n",
       "    }\n",
       "\n",
       "    .dataframe thead th {\n",
       "        text-align: right;\n",
       "    }\n",
       "</style>\n",
       "<table border=\"1\" class=\"dataframe\">\n",
       "  <thead>\n",
       "    <tr style=\"text-align: right;\">\n",
       "      <th></th>\n",
       "      <th>High</th>\n",
       "      <th>Low</th>\n",
       "      <th>Open</th>\n",
       "      <th>Close</th>\n",
       "      <th>Adj Close</th>\n",
       "    </tr>\n",
       "    <tr>\n",
       "      <th>Date</th>\n",
       "      <th></th>\n",
       "      <th></th>\n",
       "      <th></th>\n",
       "      <th></th>\n",
       "      <th></th>\n",
       "    </tr>\n",
       "  </thead>\n",
       "  <tbody>\n",
       "    <tr>\n",
       "      <th>2017-01-02</th>\n",
       "      <td>60227.0</td>\n",
       "      <td>59371.0</td>\n",
       "      <td>60227.0</td>\n",
       "      <td>59589.0</td>\n",
       "      <td>59589.0</td>\n",
       "    </tr>\n",
       "    <tr>\n",
       "      <th>2017-01-03</th>\n",
       "      <td>61815.0</td>\n",
       "      <td>59631.0</td>\n",
       "      <td>59631.0</td>\n",
       "      <td>61814.0</td>\n",
       "      <td>61814.0</td>\n",
       "    </tr>\n",
       "    <tr>\n",
       "      <th>2017-01-04</th>\n",
       "      <td>61940.0</td>\n",
       "      <td>61302.0</td>\n",
       "      <td>61811.0</td>\n",
       "      <td>61589.0</td>\n",
       "      <td>61589.0</td>\n",
       "    </tr>\n",
       "    <tr>\n",
       "      <th>2017-01-05</th>\n",
       "      <td>62409.0</td>\n",
       "      <td>61594.0</td>\n",
       "      <td>61594.0</td>\n",
       "      <td>62071.0</td>\n",
       "      <td>62071.0</td>\n",
       "    </tr>\n",
       "    <tr>\n",
       "      <th>2017-01-06</th>\n",
       "      <td>62072.0</td>\n",
       "      <td>61396.0</td>\n",
       "      <td>62072.0</td>\n",
       "      <td>61665.0</td>\n",
       "      <td>61665.0</td>\n",
       "    </tr>\n",
       "    <tr>\n",
       "      <th>...</th>\n",
       "      <td>...</td>\n",
       "      <td>...</td>\n",
       "      <td>...</td>\n",
       "      <td>...</td>\n",
       "      <td>...</td>\n",
       "    </tr>\n",
       "    <tr>\n",
       "      <th>2020-12-22</th>\n",
       "      <td>116903.0</td>\n",
       "      <td>115648.0</td>\n",
       "      <td>115825.0</td>\n",
       "      <td>116348.0</td>\n",
       "      <td>116348.0</td>\n",
       "    </tr>\n",
       "    <tr>\n",
       "      <th>2020-12-23</th>\n",
       "      <td>118311.0</td>\n",
       "      <td>116636.0</td>\n",
       "      <td>116636.0</td>\n",
       "      <td>117857.0</td>\n",
       "      <td>117857.0</td>\n",
       "    </tr>\n",
       "    <tr>\n",
       "      <th>2020-12-28</th>\n",
       "      <td>119213.0</td>\n",
       "      <td>117805.0</td>\n",
       "      <td>117806.0</td>\n",
       "      <td>119051.0</td>\n",
       "      <td>119051.0</td>\n",
       "    </tr>\n",
       "    <tr>\n",
       "      <th>2020-12-29</th>\n",
       "      <td>119861.0</td>\n",
       "      <td>118750.0</td>\n",
       "      <td>119130.0</td>\n",
       "      <td>119475.0</td>\n",
       "      <td>119475.0</td>\n",
       "    </tr>\n",
       "    <tr>\n",
       "      <th>2020-12-30</th>\n",
       "      <td>120150.0</td>\n",
       "      <td>118919.0</td>\n",
       "      <td>119410.0</td>\n",
       "      <td>119306.0</td>\n",
       "      <td>119306.0</td>\n",
       "    </tr>\n",
       "  </tbody>\n",
       "</table>\n",
       "<p>985 rows × 5 columns</p>\n",
       "</div>"
      ],
      "text/plain": [
       "                High       Low      Open     Close  Adj Close\n",
       "Date                                                         \n",
       "2017-01-02   60227.0   59371.0   60227.0   59589.0    59589.0\n",
       "2017-01-03   61815.0   59631.0   59631.0   61814.0    61814.0\n",
       "2017-01-04   61940.0   61302.0   61811.0   61589.0    61589.0\n",
       "2017-01-05   62409.0   61594.0   61594.0   62071.0    62071.0\n",
       "2017-01-06   62072.0   61396.0   62072.0   61665.0    61665.0\n",
       "...              ...       ...       ...       ...        ...\n",
       "2020-12-22  116903.0  115648.0  115825.0  116348.0   116348.0\n",
       "2020-12-23  118311.0  116636.0  116636.0  117857.0   117857.0\n",
       "2020-12-28  119213.0  117805.0  117806.0  119051.0   119051.0\n",
       "2020-12-29  119861.0  118750.0  119130.0  119475.0   119475.0\n",
       "2020-12-30  120150.0  118919.0  119410.0  119306.0   119306.0\n",
       "\n",
       "[985 rows x 5 columns]"
      ]
     },
     "execution_count": 3,
     "metadata": {},
     "output_type": "execute_result"
    }
   ],
   "source": [
    "df = pd.read_csv('newresultado_join.csv', index_col='Date')\n",
    "df = df.drop(labels=['Volume', 'polarity', 'subjectivity'], axis=1)\n",
    "df"
   ]
  },
  {
   "cell_type": "code",
   "execution_count": 4,
   "id": "c92c9f20",
   "metadata": {},
   "outputs": [],
   "source": [
    "X = np.asarray(df.iloc[:738, :-1])\n",
    "y = np.asarray(df.iloc[:738, -1])"
   ]
  },
  {
   "cell_type": "code",
   "execution_count": 5,
   "id": "13018bbd",
   "metadata": {},
   "outputs": [],
   "source": [
    "scaler = StandardScaler()\n",
    "X_scaled = scaler.fit_transform(X)"
   ]
  },
  {
   "cell_type": "code",
   "execution_count": 6,
   "id": "61ed4d21",
   "metadata": {},
   "outputs": [],
   "source": [
    "y_scaler = StandardScaler()\n",
    "y_scaled = y_scaler.fit_transform(y.reshape(-1, 1))"
   ]
  },
  {
   "cell_type": "code",
   "execution_count": 7,
   "id": "457f6597",
   "metadata": {},
   "outputs": [
    {
     "data": {
      "text/plain": [
       "(738, 4)"
      ]
     },
     "execution_count": 7,
     "metadata": {},
     "output_type": "execute_result"
    }
   ],
   "source": [
    "X_scaled.shape"
   ]
  },
  {
   "cell_type": "code",
   "execution_count": 8,
   "id": "8a76fc5c",
   "metadata": {},
   "outputs": [],
   "source": [
    "X_train = []\n",
    "y_train = []\n",
    "for i in range(20, len(X)):\n",
    "    X_train.append(X_scaled[i-20:i,:])\n",
    "    y_train.append(y_scaled[i, 0])\n",
    "X_train, y_train = np.array(X_train), np.array(y_train)"
   ]
  },
  {
   "cell_type": "code",
   "execution_count": 9,
   "id": "e016dc13",
   "metadata": {},
   "outputs": [],
   "source": [
    "X_train = np.reshape(X_train, (X_train.shape[0], -1))"
   ]
  },
  {
   "cell_type": "code",
   "execution_count": 10,
   "id": "e22c6644",
   "metadata": {},
   "outputs": [
    {
     "data": {
      "text/plain": [
       "(718, 80)"
      ]
     },
     "execution_count": 10,
     "metadata": {},
     "output_type": "execute_result"
    }
   ],
   "source": [
    "X_train.shape"
   ]
  },
  {
   "cell_type": "code",
   "execution_count": 11,
   "id": "b49ce44a",
   "metadata": {},
   "outputs": [],
   "source": [
    "model = RandomForestRegressor(n_estimators=30)"
   ]
  },
  {
   "cell_type": "code",
   "execution_count": 12,
   "id": "eab1f2e3",
   "metadata": {
    "scrolled": true
   },
   "outputs": [
    {
     "data": {
      "text/plain": [
       "RandomForestRegressor(n_estimators=30)"
      ]
     },
     "execution_count": 12,
     "metadata": {},
     "output_type": "execute_result"
    }
   ],
   "source": [
    "model.fit(X_train, y_train)"
   ]
  },
  {
   "cell_type": "code",
   "execution_count": 13,
   "id": "661141cd",
   "metadata": {},
   "outputs": [],
   "source": [
    "dataset_test = pd.read_csv('newresultado_test.csv', index_col='Date')\n",
    "dataset_test = dataset_test.drop(labels=['Volume', 'polarity', 'subjectivity'], axis=1)\n",
    "real_stock_price = dataset_test.iloc[:, 4:5].values"
   ]
  },
  {
   "cell_type": "code",
   "execution_count": 14,
   "id": "9c680276",
   "metadata": {},
   "outputs": [],
   "source": [
    "dataset_total = pd.concat((df, dataset_test), axis = 0)\n",
    "inputs = dataset_total.iloc[len(dataset_total) - len(dataset_test) - 20:, :-1]\n",
    "inputs = scaler.transform(inputs)"
   ]
  },
  {
   "cell_type": "code",
   "execution_count": 15,
   "id": "9e6d06aa",
   "metadata": {},
   "outputs": [],
   "source": [
    "X_test = []\n",
    "for i in range(20, len(inputs)):\n",
    "    X_test.append(inputs[i-20:i, :])\n",
    "X_test = np.array(X_test)"
   ]
  },
  {
   "cell_type": "code",
   "execution_count": 16,
   "id": "c71eab2f",
   "metadata": {},
   "outputs": [],
   "source": [
    "X_test = np.reshape(X_test, (X_test.shape[0], -1))\n",
    "predicted_stock_price = model.predict(X_test)"
   ]
  },
  {
   "cell_type": "code",
   "execution_count": 17,
   "id": "f2051f1c",
   "metadata": {},
   "outputs": [
    {
     "data": {
      "text/plain": [
       "0.03347052071369224"
      ]
     },
     "execution_count": 17,
     "metadata": {},
     "output_type": "execute_result"
    }
   ],
   "source": [
    "y_test_scaled = y_scaler.transform(real_stock_price)\n",
    "mse = mean_squared_error(y_test_scaled, predicted_stock_price)\n",
    "mse"
   ]
  },
  {
   "cell_type": "code",
   "execution_count": 18,
   "id": "215c5ddc",
   "metadata": {
    "scrolled": true
   },
   "outputs": [],
   "source": [
    "predicted_stock_price = y_scaler.inverse_transform(predicted_stock_price)"
   ]
  },
  {
   "cell_type": "code",
   "execution_count": 19,
   "id": "7e398a25",
   "metadata": {},
   "outputs": [
    {
     "name": "stdout",
     "output_type": "stream",
     "text": [
      "MAE: 1726.560\n",
      "R2: 0.963\n",
      "MAPE: 0.019\n",
      "RMSE: 2631.635\n"
     ]
    }
   ],
   "source": [
    "mae = mean_absolute_error(real_stock_price, predicted_stock_price)\n",
    "r2 = r2_score(real_stock_price, predicted_stock_price)\n",
    "mape = mean_absolute_percentage_error(real_stock_price, predicted_stock_price)\n",
    "mse = mean_squared_error(real_stock_price, predicted_stock_price, squared=False)\n",
    "\n",
    "print('MAE: %.3f' % mae)\n",
    "print('R2: %.3f' % r2)\n",
    "print('MAPE: %.3f' % mape)\n",
    "print('RMSE: %.3f' % mse)"
   ]
  },
  {
   "cell_type": "code",
   "execution_count": 21,
   "id": "a79103f7",
   "metadata": {},
   "outputs": [],
   "source": [
    "data_dis = pd.DataFrame(dataset_test, columns=['Adj Close'])\n",
    "data_dis.dropna(inplace=True)"
   ]
  },
  {
   "cell_type": "code",
   "execution_count": 22,
   "id": "303431d7",
   "metadata": {},
   "outputs": [],
   "source": [
    "yhat_dis = pd.DataFrame(predicted_stock_price, index=dataset_test.index.copy())"
   ]
  },
  {
   "cell_type": "code",
   "execution_count": 23,
   "id": "f8576ae5",
   "metadata": {},
   "outputs": [],
   "source": [
    "yhat_dis.index = pd.to_datetime(yhat_dis.index)\n",
    "data_dis.index = pd.to_datetime(data_dis.index)"
   ]
  },
  {
   "cell_type": "code",
   "execution_count": 24,
   "id": "1f737ea2",
   "metadata": {},
   "outputs": [
    {
     "data": {
      "image/png": "[encoded data removed]",
      "text/plain": [
       "<Figure size 1440x432 with 1 Axes>"
      ]
     },
     "metadata": {
      "needs_background": "light"
     },
     "output_type": "display_data"
    }
   ],
   "source": [
    "rcParams['figure.figsize'] = 20, 6\n",
    "plt.pyplot.plot(data_dis, label='Real')\n",
    "plt.pyplot.plot(yhat_dis, label='Predito')\n",
    "plt.pyplot.legend()\n",
    "plt.pyplot.show()"
   ]
  },
  {
   "cell_type": "code",
   "execution_count": null,
   "id": "cb087346",
   "metadata": {},
   "outputs": [],
   "source": []
  }
 ],
 "metadata": {
  "kernelspec": {
   "display_name": "Python 3 (ipykernel)",
   "language": "python",
   "name": "python3"
  },
  "language_info": {
   "codemirror_mode": {
    "name": "ipython",
    "version": 3
   },
   "file_extension": ".py",
   "mimetype": "text/x-python",
   "name": "python",
   "nbconvert_exporter": "python",
   "pygments_lexer": "ipython3",
   "version": "3.9.6"
  }
 },
 "nbformat": 4,
 "nbformat_minor": 5
}
